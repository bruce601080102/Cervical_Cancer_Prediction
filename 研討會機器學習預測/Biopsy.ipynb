{
 "cells": [
  {
   "cell_type": "code",
   "execution_count": 1,
   "metadata": {},
   "outputs": [],
   "source": [
    "import pandas as pd\n",
    "import numpy as np\n",
    "from numpy import nan as NaN\n",
    "import random as rnd\n",
    "\n",
    "# visualization\n",
    "import seaborn as sns\n",
    "import matplotlib.pyplot as plt\n",
    "%matplotlib inline\n",
    "\n",
    "# machine learning\n",
    "from sklearn.linear_model import LogisticRegression\n",
    "from sklearn.svm import SVC, LinearSVC\n",
    "from sklearn.ensemble import RandomForestClassifier\n",
    "from sklearn.neighbors import KNeighborsClassifier\n",
    "from sklearn.naive_bayes import GaussianNB\n",
    "from sklearn.linear_model import Perceptron\n",
    "from sklearn.linear_model import SGDClassifier\n",
    "from sklearn.tree import DecisionTreeClassifier\n",
    "\n",
    "import warnings\n",
    "warnings.filterwarnings(\"ignore\")\n",
    "cancer = pd.read_csv('kag_risk_factors_cervical_cancer.csv')\n",
    "cancer_name=cancer.columns.values\n",
    "cancer_name=cancer_name.tolist()\n",
    "cancer=cancer[cancer_name].replace(\"?\",np.nan)\n",
    "cancer.head()\n",
    "cancer = cancer.drop(labels=['STDs: Time since first diagnosis','STDs: Time since last diagnosis'],axis=1)\n",
    "cancer['STDs: Number of diagnosis'] = cancer['STDs: Number of diagnosis']\n",
    "cancer['STDs: Number of diagnosis'] = ((cancer['STDs: Number of diagnosis']) >0 )*1 \n",
    "cancer['First sexual intercourse'] = cancer['First sexual intercourse'].fillna(cancer['First sexual intercourse'].median())\n",
    "cancer['First sexual intercourse'] = cancer['First sexual intercourse'].astype('float')\n",
    "cancer['First sexual intercourse']=cancer['First sexual intercourse'].astype(float)\n",
    "cancer['sex_years_new']=cancer['Age']-cancer['First sexual intercourse']\n",
    "cancer.isnull().sum()\n",
    "cancer['Smokes (packs/year)'] = cancer['Smokes (packs/year)'].fillna(cancer['Smokes (packs/year)'].median()).astype('float')\n",
    "cancer['Smokes (years)'] = cancer['Smokes (years)'].fillna(value=0.0).astype('float')\n",
    "cancer['Smokes'] = cancer['Smokes'].fillna(cancer['Smokes'].median()).astype('float')\n",
    "cancer['Smokes'].value_counts()\n",
    "cancer['Num of pregnancies'] = cancer['Num of pregnancies'].fillna(cancer['Num of pregnancies'].median())\n",
    "cancer['Num of pregnancies'] = cancer['Num of pregnancies'].astype('float')\n",
    "cancer['Number of sexual partners'] = cancer['Number of sexual partners'].fillna(cancer['Number of sexual partners'].median())\n",
    "cancer['Number of sexual partners'] = cancer['Number of sexual partners'].astype('float')\n",
    "cancer['Hormonal Contraceptives'] = cancer['Hormonal Contraceptives'].fillna(cancer['Hormonal Contraceptives'].median())\n",
    "cancer['Hormonal Contraceptives'] = cancer['Hormonal Contraceptives'].astype('float')\n",
    "cancer['Hormonal Contraceptives (years)'] = cancer['Hormonal Contraceptives (years)'].fillna(cancer['Hormonal Contraceptives (years)'].median())\n",
    "cancer['Hormonal Contraceptives (years)'] = cancer['Hormonal Contraceptives (years)'].astype('float')\n",
    "cancer['IUD (years)'] = cancer['IUD (years)'].fillna(cancer['IUD (years)'].median())\n",
    "cancer['IUD (years)'] = cancer['IUD (years)'].astype('float')\n",
    "cancer['IUD'] = cancer['IUD'].fillna(cancer['IUD'].median()).astype('float')\n",
    "cancer['IUD'] = cancer['IUD'].astype('float')\n",
    "cancer['STDs'] = cancer['STDs'].fillna(cancer['STDs'].median()).astype('float')\n",
    "cancer['STDs (number)'] = cancer['STDs (number)'].fillna(cancer['STDs (number)'].median()).astype('float')\n",
    "cancer['STDs:condylomatosis'] = cancer['STDs:condylomatosis'].fillna(cancer['STDs:condylomatosis'].median()).astype('float')\n",
    "cancer['STDs:cervical condylomatosis'] = cancer['STDs:cervical condylomatosis'].fillna(cancer['STDs:cervical condylomatosis'].median()).astype('float')\n",
    "cancer['STDs:vaginal condylomatosis'] = cancer['STDs:vaginal condylomatosis'].fillna(cancer['STDs:vaginal condylomatosis'].median()).astype('float')\n",
    "cancer['STDs:vulvo-perineal condylomatosis'] = cancer['STDs:vulvo-perineal condylomatosis'].fillna(cancer['STDs:vulvo-perineal condylomatosis'].median()).astype('float')\n",
    "\n",
    "cancer['STDs:syphilis'] = cancer['STDs:syphilis'].fillna(cancer['STDs:syphilis'].median()).astype('float')\n",
    "cancer['STDs:pelvic inflammatory disease'] = cancer['STDs:pelvic inflammatory disease'].fillna(cancer['STDs:pelvic inflammatory disease'].median()).astype('float')\n",
    "cancer['STDs:genital herpes'] = cancer['STDs:genital herpes'].fillna(cancer['STDs:genital herpes'].median()).astype('float')\n",
    "cancer['STDs:molluscum contagiosum'] = cancer['STDs:molluscum contagiosum'].fillna(cancer['STDs:molluscum contagiosum'].median()).astype('float')\n",
    "\n",
    "cancer['STDs:AIDS'] = cancer['STDs:AIDS'].fillna(cancer['STDs:AIDS'].median()).astype('float')\n",
    "cancer['STDs:HIV'] = cancer['STDs:HIV'].fillna(cancer['STDs:HIV'].median()).astype('float')\n",
    "cancer['STDs:Hepatitis B'] = cancer['STDs:Hepatitis B'].fillna(cancer['STDs:Hepatitis B'].median()).astype('float')\n",
    "cancer['STDs:HPV'] = cancer['STDs:HPV'].fillna(cancer['STDs:HPV'].median()).astype('float')"
   ]
  },
  {
   "cell_type": "code",
   "execution_count": 2,
   "metadata": {},
   "outputs": [
    {
     "name": "stderr",
     "output_type": "stream",
     "text": [
      "Using TensorFlow backend.\n"
     ]
    }
   ],
   "source": [
    "from sklearn.model_selection import train_test_split\n",
    "from imblearn.over_sampling import SMOTE\n",
    "Y=cancer[['Biopsy']]\n",
    "X=cancer.drop(['Hinselmann', 'Schiller','Citology', 'Biopsy', 'sex_years_new'], axis=1)\n",
    "smo = SMOTE(random_state=42)\n",
    "columns = X.columns\n",
    "\n",
    "X_smo, y_smo = smo.fit_sample(X, Y)\n",
    "os_data_X = pd.DataFrame(data=X_smo,columns=columns )\n",
    "os_data_y= pd.DataFrame(data=y_smo,columns=['y'])"
   ]
  },
  {
   "cell_type": "code",
   "execution_count": 38,
   "metadata": {},
   "outputs": [
    {
     "name": "stdout",
     "output_type": "stream",
     "text": [
      "Random Forest train score: 99.92\n",
      "Random Forest test score: 97.2\n"
     ]
    }
   ],
   "source": [
    "X_train, X_test, Y_train, Y_test= train_test_split(os_data_X, os_data_y, test_size=0.2)\n",
    "random_forest = RandomForestClassifier(random_state=10,n_estimators=300,min_samples_split=3,oob_score=True)\n",
    "random_forest=random_forest.fit(X_train, Y_train)\n",
    "print('Random Forest train score: '+str(round(random_forest.score(X_train, Y_train) * 100, 2)))\n",
    "print('Random Forest test score: '+str(round(random_forest.score(X_test, Y_test) * 100, 2)))"
   ]
  },
  {
   "cell_type": "code",
   "execution_count": 40,
   "metadata": {},
   "outputs": [
    {
     "name": "stdout",
     "output_type": "stream",
     "text": [
      "Random Forest accuracy scores: [0.68292683 0.86585366 0.98780488 0.9875     0.975      0.9875\n",
      " 1.         0.9875     1.         0.9875     1.         1.\n",
      " 1.         1.         1.         0.9875     0.9875     0.975\n",
      " 0.975      1.        ]\n",
      "Random Forest accuracy: 0.969 +/- 0.072\n"
     ]
    }
   ],
   "source": [
    "from sklearn.model_selection import cross_val_score\n",
    "\n",
    "Forest_scores = cross_val_score(estimator=random_forest ,\n",
    "                         X=os_data_X,\n",
    "                         y=os_data_y,\n",
    "                         cv=20,\n",
    "                         n_jobs=1)\n",
    "print('Random Forest accuracy scores: %s' % Forest_scores)\n",
    "\n",
    "print('Random Forest accuracy: %.3f +/- %.3f' % (np.mean(Forest_scores), np.std(Forest_scores)))"
   ]
  },
  {
   "cell_type": "code",
   "execution_count": 49,
   "metadata": {},
   "outputs": [
    {
     "name": "stdout",
     "output_type": "stream",
     "text": [
      "Random Forest accuracy scores: [0.74074074 0.99382716 0.96296296 0.99375    0.98125    1.\n",
      " 1.         0.99375    0.98125    0.98125   ]\n",
      "Random Forest accuracy: 0.963 +/- 0.075\n"
     ]
    }
   ],
   "source": [
    "from sklearn.model_selection import cross_val_score\n",
    "\n",
    "Forest_scores = cross_val_score(estimator=random_forest ,\n",
    "                         X=os_data_X,\n",
    "                         y=os_data_y,\n",
    "                         cv=10,\n",
    "                         n_jobs=1)\n",
    "print('Random Forest accuracy scores: %s' % Forest_scores)\n",
    "\n",
    "print('Random Forest accuracy: %.3f +/- %.3f' % (np.mean(Forest_scores), np.std(Forest_scores)))"
   ]
  },
  {
   "cell_type": "code",
   "execution_count": 41,
   "metadata": {},
   "outputs": [
    {
     "data": {
      "image/png": "[encoded data removed]",
      "text/plain": [
       "<Figure size 720x576 with 1 Axes>"
      ]
     },
     "metadata": {
      "needs_background": "light"
     },
     "output_type": "display_data"
    }
   ],
   "source": [
    "%matplotlib inline\n",
    "from sklearn.metrics import roc_auc_score\n",
    "from sklearn.metrics import roc_curve\n",
    "logit_roc_auc = roc_auc_score(Y_test, random_forest.predict(X_test))\n",
    "fpr, tpr, thresholds = roc_curve(Y_test, random_forest.predict_proba(X_test)[:,1])\n",
    "import matplotlib.pyplot as plt\n",
    "fig = plt.figure(figsize= (10,8))\n",
    "plt.plot(fpr, tpr, label='random_forest_Biopsy (area = %0.2f)' % logit_roc_auc)\n",
    "plt.plot([0, 1], [0, 1],'r--')\n",
    "plt.xlim([0.0, 1.0])\n",
    "plt.ylim([0.0, 1.05])\n",
    "plt.xlabel('False Positive Rate')\n",
    "plt.ylabel('True Positive Rate')\n",
    "plt.title('Receiver operating characteristic')\n",
    "plt.legend(loc=\"lower right\")\n",
    "plt.savefig('Log_ROC')\n",
    "plt.show()"
   ]
  },
  {
   "cell_type": "code",
   "execution_count": 42,
   "metadata": {},
   "outputs": [
    {
     "name": "stdout",
     "output_type": "stream",
     "text": [
      "[[153   4]\n",
      " [  5 160]]\n"
     ]
    }
   ],
   "source": [
    "y_pred_random_forest = random_forest.predict(X_test)\n",
    "\n",
    "from sklearn.metrics import confusion_matrix\n",
    "confusion_matrix_random_forest = confusion_matrix(Y_test, y_pred_random_forest)\n",
    "print(confusion_matrix_random_forest)"
   ]
  },
  {
   "cell_type": "code",
   "execution_count": 43,
   "metadata": {},
   "outputs": [
    {
     "name": "stdout",
     "output_type": "stream",
     "text": [
      "              precision    recall  f1-score   support\n",
      "\n",
      "           0       0.97      0.97      0.97       157\n",
      "           1       0.98      0.97      0.97       165\n",
      "\n",
      "    accuracy                           0.97       322\n",
      "   macro avg       0.97      0.97      0.97       322\n",
      "weighted avg       0.97      0.97      0.97       322\n",
      "\n"
     ]
    }
   ],
   "source": [
    "from sklearn.metrics import classification_report\n",
    "print(classification_report(Y_test, y_pred_random_forest))"
   ]
  },
  {
   "cell_type": "code",
   "execution_count": 45,
   "metadata": {},
   "outputs": [
    {
     "name": "stdout",
     "output_type": "stream",
     "text": [
      "[ True  True  True  True  True  True  True  True]\n",
      "N_features 8\n",
      "[1 1 1 1 1 1 1 1]\n",
      "[82.99237805 90.16006098 91.90396341 93.08689024 94.08536585 94.89329268\n",
      " 95.32469512 95.88109756]\n"
     ]
    }
   ],
   "source": [
    "from sklearn.feature_selection import RFECV\n",
    "compare1=['Age', 'Number of sexual partners', 'First sexual intercourse',\n",
    "       'Num of pregnancies','Hormonal Contraceptives', 'Hormonal Contraceptives (years)','STDs','Dx:HPV']\n",
    "selector = RFECV(RandomForestClassifier(n_estimators=250,min_samples_split=20),cv=20,n_jobs=-1)\n",
    "selector.fit(os_data_X[compare1], os_data_y)\n",
    "\n",
    "print(selector.support_)\n",
    "print(\"N_features %s\" % selector.n_features_)\n",
    "print(selector.ranking_)\n",
    "print(selector.grid_scores_*100)"
   ]
  },
  {
   "cell_type": "code",
   "execution_count": 46,
   "metadata": {},
   "outputs": [
    {
     "name": "stdout",
     "output_type": "stream",
     "text": [
      "Random Forest train score: 99.92\n",
      "Random Forest test score: 96.58\n"
     ]
    }
   ],
   "source": [
    "X_train, X_test, Y_train, Y_test= train_test_split(os_data_X[compare1], os_data_y, test_size=0.2)\n",
    "random_forest = RandomForestClassifier(random_state=10,n_estimators=300,min_samples_split=3,oob_score=True)\n",
    "random_forest=random_forest.fit(X_train, Y_train)\n",
    "print('Random Forest train score: '+str(round(random_forest.score(X_train, Y_train) * 100, 2)))\n",
    "print('Random Forest test score: '+str(round(random_forest.score(X_test, Y_test) * 100, 2)))"
   ]
  },
  {
   "cell_type": "code",
   "execution_count": 47,
   "metadata": {},
   "outputs": [
    {
     "name": "stdout",
     "output_type": "stream",
     "text": [
      "Random Forest accuracy scores: [0.68292683 0.84146341 0.98780488 0.9875     1.         0.975\n",
      " 0.9875     1.         0.9875     0.975      1.         1.\n",
      " 1.         1.         1.         0.9875     0.975      0.9875\n",
      " 0.9875     1.        ]\n",
      "Random Forest accuracy: 0.968 +/- 0.074\n"
     ]
    }
   ],
   "source": [
    "from sklearn.model_selection import cross_val_score\n",
    "\n",
    "Forest_scores = cross_val_score(estimator=random_forest ,\n",
    "                         X=os_data_X[compare1],\n",
    "                         y=os_data_y,\n",
    "                         cv=20,\n",
    "                         n_jobs=1)\n",
    "print('Random Forest accuracy scores: %s' % Forest_scores)\n",
    "\n",
    "print('Random Forest accuracy: %.3f +/- %.3f' % (np.mean(Forest_scores), np.std(Forest_scores)))"
   ]
  },
  {
   "cell_type": "code",
   "execution_count": 48,
   "metadata": {},
   "outputs": [
    {
     "name": "stdout",
     "output_type": "stream",
     "text": [
      "Random Forest accuracy scores: [0.74074074 0.98148148 0.98148148 0.99375    0.9875     1.\n",
      " 1.         0.99375    0.98125    1.        ]\n",
      "Random Forest accuracy: 0.966 +/- 0.075\n"
     ]
    }
   ],
   "source": [
    "from sklearn.model_selection import cross_val_score\n",
    "\n",
    "Forest_scores = cross_val_score(estimator=random_forest ,\n",
    "                         X=os_data_X[compare1],\n",
    "                         y=os_data_y,\n",
    "                         cv=10,\n",
    "                         n_jobs=1)\n",
    "print('Random Forest accuracy scores: %s' % Forest_scores)\n",
    "\n",
    "print('Random Forest accuracy: %.3f +/- %.3f' % (np.mean(Forest_scores), np.std(Forest_scores)))"
   ]
  },
  {
   "cell_type": "code",
   "execution_count": 50,
   "metadata": {},
   "outputs": [
    {
     "name": "stdout",
     "output_type": "stream",
     "text": [
      "[[165   1]\n",
      " [ 10 146]]\n"
     ]
    }
   ],
   "source": [
    "y_pred_random_forest = random_forest.predict(X_test)\n",
    "\n",
    "from sklearn.metrics import confusion_matrix\n",
    "confusion_matrix_random_forest = confusion_matrix(Y_test, y_pred_random_forest)\n",
    "print(confusion_matrix_random_forest)"
   ]
  },
  {
   "cell_type": "code",
   "execution_count": 51,
   "metadata": {},
   "outputs": [
    {
     "name": "stdout",
     "output_type": "stream",
     "text": [
      "              precision    recall  f1-score   support\n",
      "\n",
      "           0       0.94      0.99      0.97       166\n",
      "           1       0.99      0.94      0.96       156\n",
      "\n",
      "    accuracy                           0.97       322\n",
      "   macro avg       0.97      0.96      0.97       322\n",
      "weighted avg       0.97      0.97      0.97       322\n",
      "\n"
     ]
    }
   ],
   "source": [
    "from sklearn.metrics import classification_report\n",
    "print(classification_report(Y_test, y_pred_random_forest))"
   ]
  },
  {
   "cell_type": "markdown",
   "metadata": {},
   "source": [
    "# 2.支援向量機"
   ]
  },
  {
   "cell_type": "code",
   "execution_count": 56,
   "metadata": {},
   "outputs": [
    {
     "name": "stdout",
     "output_type": "stream",
     "text": [
      "SVM train score: 100.0\n",
      "SVM test score: 91.61\n"
     ]
    }
   ],
   "source": [
    "# SVM\n",
    "svc  = SVC(C=100,probability=True)\n",
    "svc=svc.fit(X_train, Y_train)\n",
    "\n",
    "print('SVM train score: '+str(round(svc.score(X_train, Y_train) * 100, 2)))\n",
    "print('SVM test score: '+str(round(svc.score(X_test, Y_test) * 100, 2)))"
   ]
  },
  {
   "cell_type": "code",
   "execution_count": 57,
   "metadata": {},
   "outputs": [
    {
     "name": "stdout",
     "output_type": "stream",
     "text": [
      "Random Forest accuracy scores: [0.90243902 0.79268293 0.92682927 0.925      0.9        0.9375\n",
      " 0.925      0.925      0.9125     0.9375     0.95       0.9875\n",
      " 0.925      0.95       0.9625     0.9125     0.975      0.9125\n",
      " 0.925      0.975     ]\n",
      "Random Forest accuracy: 0.928 +/- 0.039\n"
     ]
    }
   ],
   "source": [
    "from sklearn.model_selection import cross_val_score\n",
    "\n",
    "svc_scores = cross_val_score(estimator=svc ,\n",
    "                         X=os_data_X[compare1],\n",
    "                         y=os_data_y,\n",
    "                         cv=20,\n",
    "                         n_jobs=1)\n",
    "print('Random Forest accuracy scores: %s' % svc_scores)\n",
    "\n",
    "print('Random Forest accuracy: %.3f +/- %.3f' % (np.mean(svc_scores), np.std(svc_scores)))"
   ]
  },
  {
   "cell_type": "code",
   "execution_count": 58,
   "metadata": {},
   "outputs": [
    {
     "name": "stdout",
     "output_type": "stream",
     "text": [
      "Random Forest accuracy scores: [0.82098765 0.91358025 0.90740741 0.9        0.91875    0.96875\n",
      " 0.93125    0.9375     0.95       0.93125   ]\n",
      "Random Forest accuracy: 0.918 +/- 0.038\n"
     ]
    }
   ],
   "source": [
    "from sklearn.model_selection import cross_val_score\n",
    "\n",
    "svc_scores = cross_val_score(estimator=svc ,\n",
    "                         X=os_data_X[compare1],\n",
    "                         y=os_data_y,\n",
    "                         cv=10,\n",
    "                         n_jobs=1)\n",
    "print('Random Forest accuracy scores: %s' % svc_scores)\n",
    "\n",
    "print('Random Forest accuracy: %.3f +/- %.3f' % (np.mean(svc_scores), np.std(svc_scores)))"
   ]
  },
  {
   "cell_type": "markdown",
   "metadata": {},
   "source": [
    "# 3.knn"
   ]
  },
  {
   "cell_type": "code",
   "execution_count": 59,
   "metadata": {},
   "outputs": [
    {
     "name": "stdout",
     "output_type": "stream",
     "text": [
      "KNN train score: 91.28\n",
      "KNN test score: 83.23\n"
     ]
    }
   ],
   "source": [
    "# knn\n",
    "knn = KNeighborsClassifier(n_neighbors=4)\n",
    "knn=knn.fit(X_train, Y_train)\n",
    "\n",
    "print('KNN train score: '+str(round(knn.score(X_train, Y_train) * 100, 2)))\n",
    "print('KNN test score: '+str(round(knn.score(X_test, Y_test) * 100, 2)))"
   ]
  },
  {
   "cell_type": "code",
   "execution_count": 60,
   "metadata": {},
   "outputs": [
    {
     "name": "stdout",
     "output_type": "stream",
     "text": [
      "Random Forest accuracy scores: [0.82926829 0.79268293 0.79268293 0.8375     0.825      0.8875\n",
      " 0.925      0.8375     0.75       0.875      0.9375     0.9125\n",
      " 0.8375     0.8875     0.85       0.725      0.85       0.8875\n",
      " 0.875      0.8875    ]\n",
      "Random Forest accuracy: 0.850 +/- 0.054\n"
     ]
    }
   ],
   "source": [
    "from sklearn.model_selection import cross_val_score\n",
    "\n",
    "knn_scores = cross_val_score(estimator=knn ,\n",
    "                         X=os_data_X[compare1],\n",
    "                         y=os_data_y,\n",
    "                         cv=20,\n",
    "                         n_jobs=1)\n",
    "print('Random Forest accuracy scores: %s' % knn_scores)\n",
    "\n",
    "print('Random Forest accuracy: %.3f +/- %.3f' % (np.mean(knn_scores), np.std(knn_scores)))"
   ]
  },
  {
   "cell_type": "markdown",
   "metadata": {},
   "source": [
    "6.xgboost"
   ]
  },
  {
   "cell_type": "code",
   "execution_count": 61,
   "metadata": {},
   "outputs": [
    {
     "name": "stdout",
     "output_type": "stream",
     "text": [
      "xgboost train score: 98.36\n",
      "xgboost test score: 94.72\n"
     ]
    }
   ],
   "source": [
    "from sklearn.model_selection import GridSearchCV\n",
    "import xgboost as xgb\n",
    "\n",
    "gbm = xgb.XGBClassifier(learning_rate= 0.05, max_depth= 4, n_estimators=400).fit(X_train, Y_train)\n",
    "\n",
    "print('xgboost train score: '+str(round(gbm.score(X_train, Y_train) * 100, 2)))\n",
    "print('xgboost test score: '+str(round(gbm.score(X_test, Y_test) * 100, 2)))"
   ]
  },
  {
   "cell_type": "code",
   "execution_count": 62,
   "metadata": {},
   "outputs": [
    {
     "name": "stdout",
     "output_type": "stream",
     "text": [
      "xgboost accuracy scores: [0.57317073 0.82926829 0.96341463 0.9875     0.9875     0.975\n",
      " 0.9875     1.         1.         1.         1.         1.\n",
      " 1.         1.         1.         0.9625     0.9875     1.\n",
      " 0.95       1.        ]\n",
      "xgboost accuracy: 0.960 +/- 0.096\n"
     ]
    }
   ],
   "source": [
    "from sklearn.model_selection import cross_val_score\n",
    "\n",
    "xgb_scores = cross_val_score(estimator=gbm ,\n",
    "                         X=os_data_X[compare1],\n",
    "                         y=os_data_y,\n",
    "                         cv=20,\n",
    "                         n_jobs=1)\n",
    "print('xgboost accuracy scores: %s' % xgb_scores)\n",
    "\n",
    "print('xgboost accuracy: %.3f +/- %.3f' % (np.mean(xgb_scores), np.std(xgb_scores)))"
   ]
  },
  {
   "cell_type": "markdown",
   "metadata": {},
   "source": [
    "# 7.強化學習-投票法(VotingClassifier)"
   ]
  },
  {
   "cell_type": "code",
   "execution_count": 73,
   "metadata": {},
   "outputs": [
    {
     "name": "stdout",
     "output_type": "stream",
     "text": [
      "投票 train score: 99.92\n",
      "投票 test score: 96.27\n"
     ]
    }
   ],
   "source": [
    "from sklearn.ensemble import RandomForestClassifier, VotingClassifier\n",
    "eclf1 = VotingClassifier(estimators=[\n",
    "            ('xgb', gbm), ('SVM', svc), (' Random Forest', random_forest),\n",
    "             ], voting='hard')\n",
    "eclf1=eclf1.fit(X_train, Y_train)\n",
    "\n",
    "print('投票 train score: '+str(round(eclf1.score(X_train, Y_train) * 100, 2)))\n",
    "print('投票 test score: '+str(round(eclf1.score(X_test, Y_test) * 100, 2)))"
   ]
  },
  {
   "cell_type": "code",
   "execution_count": 74,
   "metadata": {},
   "outputs": [
    {
     "name": "stdout",
     "output_type": "stream",
     "text": [
      "xgboost accuracy scores: [0.68292683 0.86585366 0.98780488 0.9875     1.         0.975\n",
      " 0.9875     1.         0.9875     1.         1.         1.\n",
      " 1.         1.         1.         0.9875     0.9875     1.\n",
      " 0.9875     1.        ]\n",
      "xgboost accuracy: 0.972 +/- 0.072\n"
     ]
    }
   ],
   "source": [
    "from sklearn.model_selection import cross_val_score\n",
    "\n",
    "ens_clf_scores = cross_val_score(estimator=eclf1 ,\n",
    "                         X=os_data_X[compare1],\n",
    "                         y=os_data_y,\n",
    "                         cv=20,\n",
    "                         n_jobs=1)\n",
    "print('xgboost accuracy scores: %s' % ens_clf_scores)\n",
    "\n",
    "print('xgboost accuracy: %.3f +/- %.3f' % (np.mean(ens_clf_scores), np.std(ens_clf_scores)))"
   ]
  },
  {
   "cell_type": "code",
   "execution_count": 75,
   "metadata": {},
   "outputs": [
    {
     "name": "stdout",
     "output_type": "stream",
     "text": [
      "xgboost accuracy scores: [0.75925926 0.97530864 0.98765432 0.99375    0.98125    1.\n",
      " 1.         0.99375    0.99375    1.        ]\n",
      "xgboost accuracy: 0.968 +/- 0.070\n"
     ]
    }
   ],
   "source": [
    "from sklearn.model_selection import cross_val_score\n",
    "\n",
    "ens_clf_scores = cross_val_score(estimator=eclf1 ,\n",
    "                         X=os_data_X[compare1],\n",
    "                         y=os_data_y,\n",
    "                         cv=10,\n",
    "                         n_jobs=1)\n",
    "print('xgboost accuracy scores: %s' % ens_clf_scores)\n",
    "\n",
    "print('xgboost accuracy: %.3f +/- %.3f' % (np.mean(ens_clf_scores), np.std(ens_clf_scores)))"
   ]
  },
  {
   "cell_type": "code",
   "execution_count": 68,
   "metadata": {},
   "outputs": [
    {
     "name": "stdout",
     "output_type": "stream",
     "text": [
      "[[162   4]\n",
      " [  2 154]]\n"
     ]
    }
   ],
   "source": [
    "y_pred_ens_clf = eclf1.predict(X_test)\n",
    "\n",
    "from sklearn.metrics import confusion_matrix\n",
    "confusion_matrix_ens_clf = confusion_matrix(Y_test, y_pred_ens_clf)\n",
    "print(confusion_matrix_ens_clf)"
   ]
  },
  {
   "cell_type": "code",
   "execution_count": 69,
   "metadata": {},
   "outputs": [
    {
     "name": "stdout",
     "output_type": "stream",
     "text": [
      "              precision    recall  f1-score   support\n",
      "\n",
      "           0       0.99      0.98      0.98       166\n",
      "           1       0.97      0.99      0.98       156\n",
      "\n",
      "    accuracy                           0.98       322\n",
      "   macro avg       0.98      0.98      0.98       322\n",
      "weighted avg       0.98      0.98      0.98       322\n",
      "\n"
     ]
    }
   ],
   "source": [
    "from sklearn.metrics import classification_report\n",
    "print(classification_report(Y_test, y_pred_ens_clf))"
   ]
  },
  {
   "cell_type": "code",
   "execution_count": 70,
   "metadata": {},
   "outputs": [
    {
     "data": {
      "image/png": "[encoded data removed]",
      "text/plain": [
       "<Figure size 576x432 with 1 Axes>"
      ]
     },
     "metadata": {
      "needs_background": "light"
     },
     "output_type": "display_data"
    }
   ],
   "source": [
    "%matplotlib inline\n",
    "from sklearn.metrics import roc_auc_score\n",
    "from sklearn.metrics import roc_curve\n",
    "logit_roc_auc = roc_auc_score(Y_test, eclf1.predict(X_test))\n",
    "fpr, tpr, thresholds = roc_curve(Y_test, eclf1.predict_proba(X_test)[:,1])\n",
    "import matplotlib.pyplot as plt\n",
    "fig = plt.figure(figsize= (8,6))\n",
    "plt.plot(fpr, tpr, label='VotingClassifier Biopsy (area = %0.2f)' % logit_roc_auc)\n",
    "plt.plot([0, 1], [0, 1],'r--')\n",
    "plt.xlim([0.0, 1.0])\n",
    "plt.ylim([0.0, 1.05])\n",
    "plt.xlabel('False Positive Rate')\n",
    "plt.ylabel('True Positive Rate')\n",
    "plt.title('Receiver operating characteristic ')\n",
    "plt.legend(loc=\"lower right\")\n",
    "plt.savefig('Log_ROC')\n",
    "plt.show()"
   ]
  },
  {
   "cell_type": "code",
   "execution_count": null,
   "metadata": {},
   "outputs": [],
   "source": []
  }
 ],
 "metadata": {
  "kernelspec": {
   "display_name": "Python 3",
   "language": "python",
   "name": "python3"
  },
  "language_info": {
   "codemirror_mode": {
    "name": "ipython",
    "version": 3
   },
   "file_extension": ".py",
   "mimetype": "text/x-python",
   "name": "python",
   "nbconvert_exporter": "python",
   "pygments_lexer": "ipython3",
   "version": "3.7.7"
  }
 },
 "nbformat": 4,
 "nbformat_minor": 2
}
