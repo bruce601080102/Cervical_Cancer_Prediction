{
 "cells": [
  {
   "cell_type": "code",
   "execution_count": 1,
   "metadata": {},
   "outputs": [],
   "source": [
    "import pandas as pd\n",
    "import numpy as np\n",
    "from numpy import nan as NaN\n",
    "import random as rnd\n",
    "\n",
    "# visualization\n",
    "import seaborn as sns\n",
    "import matplotlib.pyplot as plt\n",
    "%matplotlib inline\n",
    "\n",
    "# machine learning\n",
    "from sklearn.linear_model import LogisticRegression\n",
    "from sklearn.svm import SVC, LinearSVC\n",
    "from sklearn.ensemble import RandomForestClassifier\n",
    "from sklearn.neighbors import KNeighborsClassifier\n",
    "from sklearn.naive_bayes import GaussianNB\n",
    "from sklearn.linear_model import Perceptron\n",
    "from sklearn.linear_model import SGDClassifier\n",
    "from sklearn.tree import DecisionTreeClassifier\n",
    "\n",
    "import warnings\n",
    "warnings.filterwarnings(\"ignore\")\n",
    "cancer = pd.read_csv('kag_risk_factors_cervical_cancer.csv')\n",
    "cancer_name=cancer.columns.values\n",
    "cancer_name=cancer_name.tolist()\n",
    "cancer=cancer[cancer_name].replace(\"?\",np.nan)\n",
    "cancer.head()\n",
    "cancer = cancer.drop(labels=['STDs: Time since first diagnosis','STDs: Time since last diagnosis'],axis=1)\n",
    "cancer['STDs: Number of diagnosis'] = cancer['STDs: Number of diagnosis']\n",
    "cancer['STDs: Number of diagnosis'] = ((cancer['STDs: Number of diagnosis']) >0 )*1 \n",
    "cancer['First sexual intercourse'] = cancer['First sexual intercourse'].fillna(cancer['First sexual intercourse'].median())\n",
    "cancer['First sexual intercourse'] = cancer['First sexual intercourse'].astype('float')\n",
    "cancer['First sexual intercourse']=cancer['First sexual intercourse'].astype(float)\n",
    "cancer['sex_years_new']=cancer['Age']-cancer['First sexual intercourse']\n",
    "cancer.isnull().sum()\n",
    "cancer['Smokes (packs/year)'] = cancer['Smokes (packs/year)'].fillna(cancer['Smokes (packs/year)'].median()).astype('float')\n",
    "cancer['Smokes (years)'] = cancer['Smokes (years)'].fillna(value=0.0).astype('float')\n",
    "cancer['Smokes'] = cancer['Smokes'].fillna(cancer['Smokes'].median()).astype('float')\n",
    "cancer['Smokes'].value_counts()\n",
    "cancer['Num of pregnancies'] = cancer['Num of pregnancies'].fillna(cancer['Num of pregnancies'].median())\n",
    "cancer['Num of pregnancies'] = cancer['Num of pregnancies'].astype('float')\n",
    "cancer['Number of sexual partners'] = cancer['Number of sexual partners'].fillna(cancer['Number of sexual partners'].median())\n",
    "cancer['Number of sexual partners'] = cancer['Number of sexual partners'].astype('float')\n",
    "cancer['Hormonal Contraceptives'] = cancer['Hormonal Contraceptives'].fillna(cancer['Hormonal Contraceptives'].median())\n",
    "cancer['Hormonal Contraceptives'] = cancer['Hormonal Contraceptives'].astype('float')\n",
    "cancer['Hormonal Contraceptives (years)'] = cancer['Hormonal Contraceptives (years)'].fillna(cancer['Hormonal Contraceptives (years)'].median())\n",
    "cancer['Hormonal Contraceptives (years)'] = cancer['Hormonal Contraceptives (years)'].astype('float')\n",
    "cancer['IUD (years)'] = cancer['IUD (years)'].fillna(cancer['IUD (years)'].median())\n",
    "cancer['IUD (years)'] = cancer['IUD (years)'].astype('float')\n",
    "cancer['IUD'] = cancer['IUD'].fillna(cancer['IUD'].median()).astype('float')\n",
    "cancer['IUD'] = cancer['IUD'].astype('float')\n",
    "cancer['STDs'] = cancer['STDs'].fillna(cancer['STDs'].median()).astype('float')\n",
    "cancer['STDs (number)'] = cancer['STDs (number)'].fillna(cancer['STDs (number)'].median()).astype('float')\n",
    "cancer['STDs:condylomatosis'] = cancer['STDs:condylomatosis'].fillna(cancer['STDs:condylomatosis'].median()).astype('float')\n",
    "cancer['STDs:cervical condylomatosis'] = cancer['STDs:cervical condylomatosis'].fillna(cancer['STDs:cervical condylomatosis'].median()).astype('float')\n",
    "cancer['STDs:vaginal condylomatosis'] = cancer['STDs:vaginal condylomatosis'].fillna(cancer['STDs:vaginal condylomatosis'].median()).astype('float')\n",
    "cancer['STDs:vulvo-perineal condylomatosis'] = cancer['STDs:vulvo-perineal condylomatosis'].fillna(cancer['STDs:vulvo-perineal condylomatosis'].median()).astype('float')\n",
    "\n",
    "cancer['STDs:syphilis'] = cancer['STDs:syphilis'].fillna(cancer['STDs:syphilis'].median()).astype('float')\n",
    "cancer['STDs:pelvic inflammatory disease'] = cancer['STDs:pelvic inflammatory disease'].fillna(cancer['STDs:pelvic inflammatory disease'].median()).astype('float')\n",
    "cancer['STDs:genital herpes'] = cancer['STDs:genital herpes'].fillna(cancer['STDs:genital herpes'].median()).astype('float')\n",
    "cancer['STDs:molluscum contagiosum'] = cancer['STDs:molluscum contagiosum'].fillna(cancer['STDs:molluscum contagiosum'].median()).astype('float')\n",
    "\n",
    "cancer['STDs:AIDS'] = cancer['STDs:AIDS'].fillna(cancer['STDs:AIDS'].median()).astype('float')\n",
    "cancer['STDs:HIV'] = cancer['STDs:HIV'].fillna(cancer['STDs:HIV'].median()).astype('float')\n",
    "cancer['STDs:Hepatitis B'] = cancer['STDs:Hepatitis B'].fillna(cancer['STDs:Hepatitis B'].median()).astype('float')\n",
    "cancer['STDs:HPV'] = cancer['STDs:HPV'].fillna(cancer['STDs:HPV'].median()).astype('float')"
   ]
  },
  {
   "cell_type": "code",
   "execution_count": 4,
   "metadata": {},
   "outputs": [
    {
     "name": "stderr",
     "output_type": "stream",
     "text": [
      "Using TensorFlow backend.\n"
     ]
    }
   ],
   "source": [
    "from sklearn.model_selection import train_test_split\n",
    "from imblearn.over_sampling import SMOTE\n",
    "Y=cancer[['Citology']]\n",
    "X=cancer.drop(['Hinselmann', 'Schiller','Citology', 'Biopsy', 'sex_years_new'], axis=1)\n",
    "smo = SMOTE(random_state=42)\n",
    "columns = X.columns\n",
    "\n",
    "X_smo, y_smo = smo.fit_sample(X, Y)\n",
    "os_data_X = pd.DataFrame(data=X_smo,columns=columns )\n",
    "os_data_y= pd.DataFrame(data=y_smo,columns=['y'])"
   ]
  },
  {
   "cell_type": "code",
   "execution_count": 5,
   "metadata": {},
   "outputs": [
    {
     "name": "stdout",
     "output_type": "stream",
     "text": [
      "Random Forest train score: 99.85\n",
      "Random Forest test score: 98.16\n"
     ]
    }
   ],
   "source": [
    "X_train, X_test, Y_train, Y_test= train_test_split(os_data_X, os_data_y, test_size=0.2)\n",
    "random_forest = RandomForestClassifier(random_state=10,n_estimators=300,min_samples_split=3,oob_score=True)\n",
    "random_forest=random_forest.fit(X_train, Y_train)\n",
    "print('Random Forest train score: '+str(round(random_forest.score(X_train, Y_train) * 100, 2)))\n",
    "print('Random Forest test score: '+str(round(random_forest.score(X_test, Y_test) * 100, 2)))"
   ]
  },
  {
   "cell_type": "code",
   "execution_count": 6,
   "metadata": {},
   "outputs": [
    {
     "name": "stdout",
     "output_type": "stream",
     "text": [
      "Random Forest accuracy scores: [0.63414634 0.97560976 1.         0.98780488 1.         0.98780488\n",
      " 1.         0.96341463 0.98780488 0.93902439 1.         1.\n",
      " 0.97560976 0.98780488 0.9875     1.         1.         0.9875\n",
      " 0.975      0.9875    ]\n",
      "Random Forest accuracy: 0.969 +/- 0.078\n"
     ]
    }
   ],
   "source": [
    "from sklearn.model_selection import cross_val_score\n",
    "\n",
    "Forest_scores = cross_val_score(estimator=random_forest ,\n",
    "                         X=os_data_X,\n",
    "                         y=os_data_y,\n",
    "                         cv=20,\n",
    "                         n_jobs=1)\n",
    "print('Random Forest accuracy scores: %s' % Forest_scores)\n",
    "\n",
    "print('Random Forest accuracy: %.3f +/- %.3f' % (np.mean(Forest_scores), np.std(Forest_scores)))"
   ]
  },
  {
   "cell_type": "code",
   "execution_count": 7,
   "metadata": {},
   "outputs": [
    {
     "name": "stdout",
     "output_type": "stream",
     "text": [
      "Random Forest accuracy scores: [0.7804878  0.99390244 0.99390244 0.98170732 0.95061728 1.\n",
      " 0.98765432 0.98765432 0.99382716 0.98765432]\n",
      "Random Forest accuracy: 0.966 +/- 0.063\n"
     ]
    }
   ],
   "source": [
    "from sklearn.model_selection import cross_val_score\n",
    "\n",
    "Forest_scores = cross_val_score(estimator=random_forest ,\n",
    "                         X=os_data_X,\n",
    "                         y=os_data_y,\n",
    "                         cv=10,\n",
    "                         n_jobs=1)\n",
    "print('Random Forest accuracy scores: %s' % Forest_scores)\n",
    "\n",
    "print('Random Forest accuracy: %.3f +/- %.3f' % (np.mean(Forest_scores), np.std(Forest_scores)))"
   ]
  },
  {
   "cell_type": "code",
   "execution_count": 8,
   "metadata": {},
   "outputs": [
    {
     "data": {
      "image/png": "[encoded data removed]",
      "text/plain": [
       "<Figure size 720x576 with 1 Axes>"
      ]
     },
     "metadata": {
      "needs_background": "light"
     },
     "output_type": "display_data"
    }
   ],
   "source": [
    "%matplotlib inline\n",
    "from sklearn.metrics import roc_auc_score\n",
    "from sklearn.metrics import roc_curve\n",
    "logit_roc_auc = roc_auc_score(Y_test, random_forest.predict(X_test))\n",
    "fpr, tpr, thresholds = roc_curve(Y_test, random_forest.predict_proba(X_test)[:,1])\n",
    "import matplotlib.pyplot as plt\n",
    "fig = plt.figure(figsize= (10,8))\n",
    "plt.plot(fpr, tpr, label='random_forest_Biopsy (area = %0.2f)' % logit_roc_auc)\n",
    "plt.plot([0, 1], [0, 1],'r--')\n",
    "plt.xlim([0.0, 1.0])\n",
    "plt.ylim([0.0, 1.05])\n",
    "plt.xlabel('False Positive Rate')\n",
    "plt.ylabel('True Positive Rate')\n",
    "plt.title('Receiver operating characteristic')\n",
    "plt.legend(loc=\"lower right\")\n",
    "plt.savefig('Log_ROC')\n",
    "plt.show()"
   ]
  },
  {
   "cell_type": "code",
   "execution_count": 9,
   "metadata": {},
   "outputs": [
    {
     "name": "stdout",
     "output_type": "stream",
     "text": [
      "[[167   3]\n",
      " [  3 153]]\n"
     ]
    }
   ],
   "source": [
    "y_pred_random_forest = random_forest.predict(X_test)\n",
    "\n",
    "from sklearn.metrics import confusion_matrix\n",
    "confusion_matrix_random_forest = confusion_matrix(Y_test, y_pred_random_forest)\n",
    "print(confusion_matrix_random_forest)"
   ]
  },
  {
   "cell_type": "code",
   "execution_count": 10,
   "metadata": {},
   "outputs": [
    {
     "name": "stdout",
     "output_type": "stream",
     "text": [
      "              precision    recall  f1-score   support\n",
      "\n",
      "           0       0.98      0.98      0.98       170\n",
      "           1       0.98      0.98      0.98       156\n",
      "\n",
      "    accuracy                           0.98       326\n",
      "   macro avg       0.98      0.98      0.98       326\n",
      "weighted avg       0.98      0.98      0.98       326\n",
      "\n"
     ]
    }
   ],
   "source": [
    "from sklearn.metrics import classification_report\n",
    "print(classification_report(Y_test, y_pred_random_forest))"
   ]
  },
  {
   "cell_type": "code",
   "execution_count": 11,
   "metadata": {},
   "outputs": [
    {
     "name": "stdout",
     "output_type": "stream",
     "text": [
      "[ True  True  True  True  True  True  True  True  True  True  True  True\n",
      "  True  True  True  True]\n",
      "N_features 16\n",
      "[1 1 1 1 1 1 1 1 1 1 1 1 1 1 1 1]\n",
      "[86.19817073 91.35518293 92.02286585 93.62652439 94.78810976 94.79878049\n",
      " 94.36432927 94.30030488 94.60518293 94.2972561  94.41920732 94.66463415\n",
      " 94.90853659 95.09756098 95.2195122  95.2820122 ]\n"
     ]
    }
   ],
   "source": [
    "from sklearn.feature_selection import RFECV\n",
    "compare1=['Age', 'Number of sexual partners', 'First sexual intercourse',\n",
    "       'Num of pregnancies', 'Smokes','Hormonal Contraceptives', 'Hormonal Contraceptives (years)', 'IUD', 'STDs', 'STDs (number)', 'STDs:condylomatosis','STDs:vulvo-perineal condylomatosis',\n",
    "       'STDs: Number of diagnosis','Dx:Cancer','Dx:HPV', 'Dx']  \n",
    "selector = RFECV(RandomForestClassifier(n_estimators=250,min_samples_split=20),cv=20,n_jobs=-1)\n",
    "selector.fit(os_data_X[compare1], os_data_y)\n",
    "\n",
    "print(selector.support_)\n",
    "print(\"N_features %s\" % selector.n_features_)\n",
    "print(selector.ranking_)\n",
    "print(selector.grid_scores_*100)"
   ]
  },
  {
   "cell_type": "code",
   "execution_count": 12,
   "metadata": {},
   "outputs": [
    {
     "name": "stdout",
     "output_type": "stream",
     "text": [
      "Random Forest train score: 99.77\n",
      "Random Forest test score: 96.01\n"
     ]
    }
   ],
   "source": [
    "X_train, X_test, Y_train, Y_test= train_test_split(os_data_X[compare1], os_data_y, test_size=0.2)\n",
    "random_forest = RandomForestClassifier(random_state=10,n_estimators=300,min_samples_split=3,oob_score=True)\n",
    "random_forest=random_forest.fit(X_train, Y_train)\n",
    "print('Random Forest train score: '+str(round(random_forest.score(X_train, Y_train) * 100, 2)))\n",
    "print('Random Forest test score: '+str(round(random_forest.score(X_test, Y_test) * 100, 2)))"
   ]
  },
  {
   "cell_type": "code",
   "execution_count": 13,
   "metadata": {},
   "outputs": [
    {
     "name": "stdout",
     "output_type": "stream",
     "text": [
      "Random Forest accuracy scores: [0.64634146 0.97560976 1.         1.         1.         0.98780488\n",
      " 1.         0.96341463 0.98780488 0.93902439 1.         0.98780488\n",
      " 0.98780488 0.98780488 1.         1.         1.         0.9875\n",
      " 0.975      0.9875    ]\n",
      "Random Forest accuracy: 0.971 +/- 0.076\n"
     ]
    }
   ],
   "source": [
    "from sklearn.model_selection import cross_val_score\n",
    "\n",
    "Forest_scores = cross_val_score(estimator=random_forest ,\n",
    "                         X=os_data_X[compare1],\n",
    "                         y=os_data_y,\n",
    "                         cv=20,\n",
    "                         n_jobs=1)\n",
    "print('Random Forest accuracy scores: %s' % Forest_scores)\n",
    "\n",
    "print('Random Forest accuracy: %.3f +/- %.3f' % (np.mean(Forest_scores), np.std(Forest_scores)))"
   ]
  },
  {
   "cell_type": "code",
   "execution_count": 14,
   "metadata": {},
   "outputs": [
    {
     "name": "stdout",
     "output_type": "stream",
     "text": [
      "Random Forest accuracy scores: [0.79268293 1.         0.99390244 0.98170732 0.95061728 0.99382716\n",
      " 0.99382716 0.99382716 0.99382716 0.98148148]\n",
      "Random Forest accuracy: 0.968 +/- 0.060\n"
     ]
    }
   ],
   "source": [
    "from sklearn.model_selection import cross_val_score\n",
    "\n",
    "Forest_scores = cross_val_score(estimator=random_forest ,\n",
    "                         X=os_data_X[compare1],\n",
    "                         y=os_data_y,\n",
    "                         cv=10,\n",
    "                         n_jobs=1)\n",
    "print('Random Forest accuracy scores: %s' % Forest_scores)\n",
    "\n",
    "print('Random Forest accuracy: %.3f +/- %.3f' % (np.mean(Forest_scores), np.std(Forest_scores)))"
   ]
  },
  {
   "cell_type": "code",
   "execution_count": 15,
   "metadata": {},
   "outputs": [
    {
     "data": {
      "image/png": "[encoded data removed]",
      "text/plain": [
       "<Figure size 720x576 with 1 Axes>"
      ]
     },
     "metadata": {
      "needs_background": "light"
     },
     "output_type": "display_data"
    }
   ],
   "source": [
    "%matplotlib inline\n",
    "from sklearn.metrics import roc_auc_score\n",
    "from sklearn.metrics import roc_curve\n",
    "logit_roc_auc = roc_auc_score(Y_test, random_forest.predict(X_test))\n",
    "fpr, tpr, thresholds = roc_curve(Y_test, random_forest.predict_proba(X_test)[:,1])\n",
    "import matplotlib.pyplot as plt\n",
    "fig = plt.figure(figsize= (10,8))\n",
    "plt.plot(fpr, tpr, label='random_forest_Biopsy (area = %0.2f)' % logit_roc_auc)\n",
    "plt.plot([0, 1], [0, 1],'r--')\n",
    "plt.xlim([0.0, 1.0])\n",
    "plt.ylim([0.0, 1.05])\n",
    "plt.xlabel('False Positive Rate')\n",
    "plt.ylabel('True Positive Rate')\n",
    "plt.title('Receiver operating characteristic')\n",
    "plt.legend(loc=\"lower right\")\n",
    "plt.savefig('Log_ROC')\n",
    "plt.show()"
   ]
  },
  {
   "cell_type": "code",
   "execution_count": 16,
   "metadata": {},
   "outputs": [
    {
     "name": "stdout",
     "output_type": "stream",
     "text": [
      "[[168   4]\n",
      " [  9 145]]\n"
     ]
    }
   ],
   "source": [
    "y_pred_random_forest = random_forest.predict(X_test)\n",
    "\n",
    "from sklearn.metrics import confusion_matrix\n",
    "confusion_matrix_random_forest = confusion_matrix(Y_test, y_pred_random_forest)\n",
    "print(confusion_matrix_random_forest)"
   ]
  },
  {
   "cell_type": "code",
   "execution_count": 17,
   "metadata": {},
   "outputs": [
    {
     "name": "stdout",
     "output_type": "stream",
     "text": [
      "              precision    recall  f1-score   support\n",
      "\n",
      "           0       0.95      0.98      0.96       172\n",
      "           1       0.97      0.94      0.96       154\n",
      "\n",
      "    accuracy                           0.96       326\n",
      "   macro avg       0.96      0.96      0.96       326\n",
      "weighted avg       0.96      0.96      0.96       326\n",
      "\n"
     ]
    }
   ],
   "source": [
    "from sklearn.metrics import classification_report\n",
    "print(classification_report(Y_test, y_pred_random_forest))"
   ]
  },
  {
   "cell_type": "markdown",
   "metadata": {},
   "source": [
    "# 2.支援向量機"
   ]
  },
  {
   "cell_type": "code",
   "execution_count": 18,
   "metadata": {},
   "outputs": [
    {
     "name": "stdout",
     "output_type": "stream",
     "text": [
      "SVM train score: 98.16\n",
      "SVM test score: 93.25\n"
     ]
    }
   ],
   "source": [
    "# SVM\n",
    "svc  = SVC(C=100,probability=True)\n",
    "svc=svc.fit(X_train, Y_train)\n",
    "\n",
    "print('SVM train score: '+str(round(svc.score(X_train, Y_train) * 100, 2)))\n",
    "print('SVM test score: '+str(round(svc.score(X_test, Y_test) * 100, 2)))"
   ]
  },
  {
   "cell_type": "code",
   "execution_count": 19,
   "metadata": {},
   "outputs": [
    {
     "name": "stdout",
     "output_type": "stream",
     "text": [
      "Random Forest accuracy scores: [0.92682927 0.8902439  0.93902439 0.91463415 0.95121951 0.96341463\n",
      " 0.96341463 0.95121951 0.93902439 0.87804878 0.85365854 0.91463415\n",
      " 0.90243902 0.91463415 0.925      0.925      0.925      0.9875\n",
      " 0.9125     0.9625    ]\n",
      "Random Forest accuracy: 0.927 +/- 0.031\n"
     ]
    }
   ],
   "source": [
    "from sklearn.model_selection import cross_val_score\n",
    "\n",
    "svc_scores = cross_val_score(estimator=svc ,\n",
    "                         X=os_data_X[compare1],\n",
    "                         y=os_data_y,\n",
    "                         cv=20,\n",
    "                         n_jobs=1)\n",
    "print('Random Forest accuracy scores: %s' % svc_scores)\n",
    "\n",
    "print('Random Forest accuracy: %.3f +/- %.3f' % (np.mean(svc_scores), np.std(svc_scores)))"
   ]
  },
  {
   "cell_type": "markdown",
   "metadata": {},
   "source": [
    "# 3.knn"
   ]
  },
  {
   "cell_type": "code",
   "execution_count": 21,
   "metadata": {},
   "outputs": [
    {
     "name": "stdout",
     "output_type": "stream",
     "text": [
      "KNN train score: 92.32\n",
      "KNN test score: 86.5\n"
     ]
    }
   ],
   "source": [
    "# knn\n",
    "knn = KNeighborsClassifier(n_neighbors=4)\n",
    "knn=knn.fit(X_train, Y_train)\n",
    "\n",
    "print('KNN train score: '+str(round(knn.score(X_train, Y_train) * 100, 2)))\n",
    "print('KNN test score: '+str(round(knn.score(X_test, Y_test) * 100, 2)))"
   ]
  },
  {
   "cell_type": "code",
   "execution_count": 22,
   "metadata": {},
   "outputs": [
    {
     "name": "stdout",
     "output_type": "stream",
     "text": [
      "Random Forest accuracy scores: [0.80487805 0.82926829 0.7804878  0.85365854 0.8902439  0.85365854\n",
      " 0.85365854 0.86585366 0.91463415 0.86585366 0.79268293 0.87804878\n",
      " 0.87804878 0.91463415 0.8125     0.8625     0.8625     0.8875\n",
      " 0.825      0.875     ]\n",
      "Random Forest accuracy: 0.855 +/- 0.036\n"
     ]
    }
   ],
   "source": [
    "from sklearn.model_selection import cross_val_score\n",
    "\n",
    "knn_scores = cross_val_score(estimator=knn ,\n",
    "                         X=os_data_X[compare1],\n",
    "                         y=os_data_y,\n",
    "                         cv=20,\n",
    "                         n_jobs=1)\n",
    "print('Random Forest accuracy scores: %s' % knn_scores)\n",
    "\n",
    "print('Random Forest accuracy: %.3f +/- %.3f' % (np.mean(knn_scores), np.std(knn_scores)))"
   ]
  },
  {
   "cell_type": "markdown",
   "metadata": {},
   "source": [
    "# 6.xgboost"
   ]
  },
  {
   "cell_type": "code",
   "execution_count": 23,
   "metadata": {},
   "outputs": [
    {
     "name": "stdout",
     "output_type": "stream",
     "text": [
      "xgboost train score: 98.62\n",
      "xgboost test score: 97.24\n"
     ]
    }
   ],
   "source": [
    "from sklearn.model_selection import GridSearchCV\n",
    "import xgboost as xgb\n",
    "\n",
    "gbm = xgb.XGBClassifier(learning_rate= 0.05, max_depth= 4, n_estimators=400).fit(X_train, Y_train)\n",
    "\n",
    "print('xgboost train score: '+str(round(gbm.score(X_train, Y_train) * 100, 2)))\n",
    "print('xgboost test score: '+str(round(gbm.score(X_test, Y_test) * 100, 2)))"
   ]
  },
  {
   "cell_type": "code",
   "execution_count": 24,
   "metadata": {},
   "outputs": [
    {
     "name": "stdout",
     "output_type": "stream",
     "text": [
      "xgboost accuracy scores: [0.5        0.96341463 0.98780488 1.         1.         0.98780488\n",
      " 1.         1.         0.96341463 0.98780488 0.98780488 1.\n",
      " 0.98780488 0.98780488 0.9875     1.         1.         0.9875\n",
      " 1.         0.975     ]\n",
      "xgboost accuracy: 0.965 +/- 0.107\n"
     ]
    }
   ],
   "source": [
    "from sklearn.model_selection import cross_val_score\n",
    "\n",
    "xgb_scores = cross_val_score(estimator=gbm ,\n",
    "                         X=os_data_X[compare1],\n",
    "                         y=os_data_y,\n",
    "                         cv=20,\n",
    "                         n_jobs=1)\n",
    "print('xgboost accuracy scores: %s' % xgb_scores)\n",
    "\n",
    "print('xgboost accuracy: %.3f +/- %.3f' % (np.mean(xgb_scores), np.std(xgb_scores)))"
   ]
  },
  {
   "cell_type": "markdown",
   "metadata": {},
   "source": [
    "# 7.強化學習-投票法(VotingClassifier)"
   ]
  },
  {
   "cell_type": "code",
   "execution_count": 39,
   "metadata": {},
   "outputs": [
    {
     "name": "stdout",
     "output_type": "stream",
     "text": [
      "投票 train score: 99.85\n",
      "投票 test score: 96.93\n"
     ]
    }
   ],
   "source": [
    "from sklearn.ensemble import RandomForestClassifier, VotingClassifier\n",
    "eclf1 = VotingClassifier(estimators=[\n",
    "            ('xgb', gbm), ('SVM', svc), (' Random Forest', random_forest),\n",
    "             ], voting='hard')\n",
    "eclf1=eclf1.fit(X_train, Y_train)\n",
    "\n",
    "print('投票 train score: '+str(round(eclf1.score(X_train, Y_train) * 100, 2)))\n",
    "print('投票 test score: '+str(round(eclf1.score(X_test, Y_test) * 100, 2)))"
   ]
  },
  {
   "cell_type": "code",
   "execution_count": 32,
   "metadata": {},
   "outputs": [
    {
     "name": "stdout",
     "output_type": "stream",
     "text": [
      "xgboost accuracy scores: [0.64634146 0.97560976 1.         1.         1.         0.98780488\n",
      " 1.         1.         0.98780488 0.92682927 0.98780488 1.\n",
      " 0.98780488 0.98780488 1.         1.         1.         0.9875\n",
      " 1.         0.9875    ]\n",
      "xgboost accuracy: 0.973 +/- 0.077\n"
     ]
    }
   ],
   "source": [
    "from sklearn.model_selection import cross_val_score\n",
    "\n",
    "ens_clf_scores = cross_val_score(estimator=eclf1 ,\n",
    "                         X=os_data_X[compare1],\n",
    "                         y=os_data_y,\n",
    "                         cv=20,\n",
    "                         n_jobs=1)\n",
    "print('xgboost accuracy scores: %s' % ens_clf_scores)\n",
    "\n",
    "print('xgboost accuracy: %.3f +/- %.3f' % (np.mean(ens_clf_scores), np.std(ens_clf_scores)))"
   ]
  },
  {
   "cell_type": "code",
   "execution_count": 33,
   "metadata": {},
   "outputs": [
    {
     "name": "stdout",
     "output_type": "stream",
     "text": [
      "xgboost accuracy scores: [0.78658537 1.         0.99390244 1.         0.95061728 0.98765432\n",
      " 0.98765432 1.         0.99382716 0.99382716]\n",
      "xgboost accuracy: 0.969 +/- 0.062\n"
     ]
    }
   ],
   "source": [
    "from sklearn.model_selection import cross_val_score\n",
    "\n",
    "ens_clf_scores = cross_val_score(estimator=eclf1 ,\n",
    "                         X=os_data_X[compare1],\n",
    "                         y=os_data_y,\n",
    "                         cv=10,\n",
    "                         n_jobs=1)\n",
    "print('xgboost accuracy scores: %s' % ens_clf_scores)\n",
    "\n",
    "print('xgboost accuracy: %.3f +/- %.3f' % (np.mean(ens_clf_scores), np.std(ens_clf_scores)))"
   ]
  },
  {
   "cell_type": "code",
   "execution_count": 34,
   "metadata": {},
   "outputs": [
    {
     "name": "stdout",
     "output_type": "stream",
     "text": [
      "[[170   2]\n",
      " [  8 146]]\n"
     ]
    }
   ],
   "source": [
    "y_pred_ens_clf = eclf1.predict(X_test)\n",
    "\n",
    "from sklearn.metrics import confusion_matrix\n",
    "confusion_matrix_ens_clf = confusion_matrix(Y_test, y_pred_ens_clf)\n",
    "print(confusion_matrix_ens_clf)"
   ]
  },
  {
   "cell_type": "code",
   "execution_count": 35,
   "metadata": {},
   "outputs": [
    {
     "name": "stdout",
     "output_type": "stream",
     "text": [
      "              precision    recall  f1-score   support\n",
      "\n",
      "           0       0.96      0.99      0.97       172\n",
      "           1       0.99      0.95      0.97       154\n",
      "\n",
      "    accuracy                           0.97       326\n",
      "   macro avg       0.97      0.97      0.97       326\n",
      "weighted avg       0.97      0.97      0.97       326\n",
      "\n"
     ]
    }
   ],
   "source": [
    "from sklearn.metrics import classification_report\n",
    "print(classification_report(Y_test, y_pred_ens_clf))"
   ]
  },
  {
   "cell_type": "code",
   "execution_count": 38,
   "metadata": {},
   "outputs": [
    {
     "data": {
      "image/png": "[encoded data removed]",
      "text/plain": [
       "<Figure size 576x432 with 1 Axes>"
      ]
     },
     "metadata": {
      "needs_background": "light"
     },
     "output_type": "display_data"
    }
   ],
   "source": [
    "%matplotlib inline\n",
    "from sklearn.metrics import roc_auc_score\n",
    "from sklearn.metrics import roc_curve\n",
    "logit_roc_auc = roc_auc_score(Y_test, eclf1.predict(X_test))\n",
    "fpr, tpr, thresholds = roc_curve(Y_test, eclf1.predict_proba(X_test)[:,1])\n",
    "import matplotlib.pyplot as plt\n",
    "fig = plt.figure(figsize= (8,6))\n",
    "plt.plot(fpr, tpr, label='VotingClassifier Citology (area = %0.2f)' % logit_roc_auc)\n",
    "plt.plot([0, 1], [0, 1],'r--')\n",
    "plt.xlim([0.0, 1.0])\n",
    "plt.ylim([0.0, 1.05])\n",
    "plt.xlabel('False Positive Rate')\n",
    "plt.ylabel('True Positive Rate')\n",
    "plt.title('Receiver operating characteristic ')\n",
    "plt.legend(loc=\"lower right\")\n",
    "plt.savefig('Log_ROC')\n",
    "plt.show()"
   ]
  },
  {
   "cell_type": "code",
   "execution_count": null,
   "metadata": {},
   "outputs": [],
   "source": []
  }
 ],
 "metadata": {
  "kernelspec": {
   "display_name": "Python 3",
   "language": "python",
   "name": "python3"
  },
  "language_info": {
   "codemirror_mode": {
    "name": "ipython",
    "version": 3
   },
   "file_extension": ".py",
   "mimetype": "text/x-python",
   "name": "python",
   "nbconvert_exporter": "python",
   "pygments_lexer": "ipython3",
   "version": "3.7.7"
  }
 },
 "nbformat": 4,
 "nbformat_minor": 2
}
